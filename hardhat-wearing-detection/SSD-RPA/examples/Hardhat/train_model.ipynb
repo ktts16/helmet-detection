{
 "cells": [
  {
   "cell_type": "markdown",
   "metadata": {},
   "source": [
    "## Setup\n",
    "From https://github.com/BVLC/caffe/blob/master/examples/00-classification.ipynb"
   ]
  },
  {
   "cell_type": "markdown",
   "metadata": {},
   "source": [
    "First, set up Python, numpy, and matplotlib."
   ]
  },
  {
   "cell_type": "code",
   "execution_count": 1,
   "metadata": {},
   "outputs": [],
   "source": [
    "from os import chdir, getcwd\n",
    "import sys\n",
    "\n",
    "# set up Python environment: numpy for numerical routines, and matplotlib for plotting\n",
    "# import numpy as np\n",
    "from pylab import *\n",
    "import matplotlib.pyplot as plt\n",
    "# display plots in this notebook\n",
    "%matplotlib inline\n",
    "\n",
    "# set display defaults\n",
    "plt.rcParams['figure.figsize'] = (10, 10)        # large images\n",
    "plt.rcParams['image.interpolation'] = 'nearest'  # don't interpolate: show square pixels\n",
    "plt.rcParams['image.cmap'] = 'gray'  # use grayscale output rather than a (potentially misleading) color heatmap"
   ]
  },
  {
   "cell_type": "code",
   "execution_count": 2,
   "metadata": {},
   "outputs": [
    {
     "name": "stdout",
     "output_type": "stream",
     "text": [
      "Python 3.6.8\r\n"
     ]
    }
   ],
   "source": [
    "!python --version"
   ]
  },
  {
   "cell_type": "markdown",
   "metadata": {},
   "source": [
    "Load caffe."
   ]
  },
  {
   "cell_type": "code",
   "execution_count": 3,
   "metadata": {
    "scrolled": true
   },
   "outputs": [
    {
     "name": "stdout",
     "output_type": "stream",
     "text": [
      "/home/krittametht/github/helmet-detection/hardhat-wearing-detection/SSD-RPA\n",
      "\n"
     ]
    }
   ],
   "source": [
    "caffe_root = '/home/krittametht/github/helmet-detection/hardhat-wearing-detection/SSD-RPA/'\n",
    "\n",
    "chdir(caffe_root)\n",
    "print(getcwd())\n",
    "\n",
    "! export PYTHONPATH=$caffe_root python\n",
    "# ! echo $caffe_root\n",
    "! echo $PYTHONPATH"
   ]
  },
  {
   "cell_type": "code",
   "execution_count": 4,
   "metadata": {
    "scrolled": true
   },
   "outputs": [],
   "source": [
    "import caffe\n",
    "# If you get \"No module named _caffe\", either you have not built pycaffe or you have the wrong path."
   ]
  },
  {
   "cell_type": "code",
   "execution_count": 5,
   "metadata": {},
   "outputs": [],
   "source": [
    "# solver_prototxt_filename = 'examples/Hardhat/SSD300/solver.prototxt'\n",
    "solver_prototxt_filename = 'examples/Hardhat/SSD300/solver_v2_lenet.prototxt'"
   ]
  },
  {
   "cell_type": "markdown",
   "metadata": {},
   "source": [
    "### Select mode & pick a device"
   ]
  },
  {
   "cell_type": "code",
   "execution_count": 6,
   "metadata": {},
   "outputs": [],
   "source": [
    "# -- CPU mode\n",
    "caffe.set_mode_cpu()\n",
    "\n",
    "# -- GPU mode\n",
    "# caffe.set_device(0)  # if we have multiple GPUs, pick the first one\n",
    "# caffe.set_mode_gpu()"
   ]
  },
  {
   "cell_type": "markdown",
   "metadata": {},
   "source": [
    "## Train model\n",
    "Load the solver."
   ]
  },
  {
   "cell_type": "code",
   "execution_count": 7,
   "metadata": {},
   "outputs": [
    {
     "name": "stdout",
     "output_type": "stream",
     "text": [
      "/home/krittametht/github/helmet-detection/hardhat-wearing-detection/SSD-RPA/examples/Hardhat/SSD300/solver_v2_lenet.prototxt\n"
     ]
    }
   ],
   "source": [
    "print(caffe_root + solver_prototxt_filename)"
   ]
  },
  {
   "cell_type": "code",
   "execution_count": null,
   "metadata": {},
   "outputs": [],
   "source": [
    "try:\n",
    "    solver = None  # ignore this workaround for lmdb data (can't instantiate two solvers on the same data)\n",
    "    # solver = caffe.get_solver(caffe_root + solver_prototxt_filename)\n",
    "    solver = caffe.SGDSolver(caffe_root + solver_prototxt_filename)\n",
    "#     solver = caffe.SGDSolver(solver_prototxt_filename)\n",
    "except:\n",
    "    print(\"Error: \", sys.exc_info()[0])"
   ]
  },
  {
   "cell_type": "code",
   "execution_count": null,
   "metadata": {},
   "outputs": [],
   "source": [
    "# solver.solve()"
   ]
  }
 ],
 "metadata": {
  "kernelspec": {
   "display_name": "Python 3",
   "language": "python",
   "name": "python3"
  },
  "language_info": {
   "codemirror_mode": {
    "name": "ipython",
    "version": 3
   },
   "file_extension": ".py",
   "mimetype": "text/x-python",
   "name": "python",
   "nbconvert_exporter": "python",
   "pygments_lexer": "ipython3",
   "version": "3.6.8"
  }
 },
 "nbformat": 4,
 "nbformat_minor": 2
}
